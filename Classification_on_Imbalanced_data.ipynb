{
  "nbformat": 4,
  "nbformat_minor": 0,
  "metadata": {
    "colab": {
      "name": "Classification on Imbalanced data.ipynb",
      "provenance": [],
      "collapsed_sections": []
    },
    "kernelspec": {
      "name": "python3",
      "display_name": "Python 3"
    },
    "language_info": {
      "name": "python"
    }
  },
  "cells": [
    {
      "cell_type": "code",
      "execution_count": 1,
      "metadata": {
        "id": "A5kS3nkrsi2g"
      },
      "outputs": [],
      "source": [
        "import tensorflow as tf\n",
        "from tensorflow import keras\n",
        "\n",
        "import os\n",
        "import tempfile\n",
        "\n",
        "import matplotlib as mpl\n",
        "import matplotlib.pyplot as plt\n",
        "import numpy as np\n",
        "import pandas as pd\n",
        "import seaborn as sns\n",
        "\n",
        "import sklearn\n",
        "from sklearn.metrics import confusion_matrix\n",
        "from sklearn.model_selection import train_test_split\n",
        "from sklearn.preprocessing import StandardScaler"
      ]
    },
    {
      "cell_type": "code",
      "source": [
        "mpl.rcParams['figure.figsize']  = (12,10)\n",
        "colors = plt.rcParams['axes.prop_cycle'].by_key()['color']"
      ],
      "metadata": {
        "id": "PBGsShzuuZh6"
      },
      "execution_count": 2,
      "outputs": []
    },
    {
      "cell_type": "code",
      "source": [
        "file = tf.keras.utils\n",
        "raw_df = pd.read_csv('https://storage.googleapis.com/download.tensorflow.org/data/creditcard.csv')\n",
        "raw_df.head()"
      ],
      "metadata": {
        "colab": {
          "base_uri": "https://localhost:8080/",
          "height": 300
        },
        "id": "cydPAa_4upb-",
        "outputId": "9efec868-75aa-457e-e5c1-7976768a8731"
      },
      "execution_count": 3,
      "outputs": [
        {
          "output_type": "execute_result",
          "data": {
            "text/plain": [
              "   Time        V1        V2        V3        V4        V5        V6        V7  \\\n",
              "0   0.0 -1.359807 -0.072781  2.536347  1.378155 -0.338321  0.462388  0.239599   \n",
              "1   0.0  1.191857  0.266151  0.166480  0.448154  0.060018 -0.082361 -0.078803   \n",
              "2   1.0 -1.358354 -1.340163  1.773209  0.379780 -0.503198  1.800499  0.791461   \n",
              "3   1.0 -0.966272 -0.185226  1.792993 -0.863291 -0.010309  1.247203  0.237609   \n",
              "4   2.0 -1.158233  0.877737  1.548718  0.403034 -0.407193  0.095921  0.592941   \n",
              "\n",
              "         V8        V9  ...       V21       V22       V23       V24       V25  \\\n",
              "0  0.098698  0.363787  ... -0.018307  0.277838 -0.110474  0.066928  0.128539   \n",
              "1  0.085102 -0.255425  ... -0.225775 -0.638672  0.101288 -0.339846  0.167170   \n",
              "2  0.247676 -1.514654  ...  0.247998  0.771679  0.909412 -0.689281 -0.327642   \n",
              "3  0.377436 -1.387024  ... -0.108300  0.005274 -0.190321 -1.175575  0.647376   \n",
              "4 -0.270533  0.817739  ... -0.009431  0.798278 -0.137458  0.141267 -0.206010   \n",
              "\n",
              "        V26       V27       V28  Amount  Class  \n",
              "0 -0.189115  0.133558 -0.021053  149.62      0  \n",
              "1  0.125895 -0.008983  0.014724    2.69      0  \n",
              "2 -0.139097 -0.055353 -0.059752  378.66      0  \n",
              "3 -0.221929  0.062723  0.061458  123.50      0  \n",
              "4  0.502292  0.219422  0.215153   69.99      0  \n",
              "\n",
              "[5 rows x 31 columns]"
            ],
            "text/html": [
              "\n",
              "  <div id=\"df-4d821577-6d35-4837-b607-70db66fa7924\">\n",
              "    <div class=\"colab-df-container\">\n",
              "      <div>\n",
              "<style scoped>\n",
              "    .dataframe tbody tr th:only-of-type {\n",
              "        vertical-align: middle;\n",
              "    }\n",
              "\n",
              "    .dataframe tbody tr th {\n",
              "        vertical-align: top;\n",
              "    }\n",
              "\n",
              "    .dataframe thead th {\n",
              "        text-align: right;\n",
              "    }\n",
              "</style>\n",
              "<table border=\"1\" class=\"dataframe\">\n",
              "  <thead>\n",
              "    <tr style=\"text-align: right;\">\n",
              "      <th></th>\n",
              "      <th>Time</th>\n",
              "      <th>V1</th>\n",
              "      <th>V2</th>\n",
              "      <th>V3</th>\n",
              "      <th>V4</th>\n",
              "      <th>V5</th>\n",
              "      <th>V6</th>\n",
              "      <th>V7</th>\n",
              "      <th>V8</th>\n",
              "      <th>V9</th>\n",
              "      <th>...</th>\n",
              "      <th>V21</th>\n",
              "      <th>V22</th>\n",
              "      <th>V23</th>\n",
              "      <th>V24</th>\n",
              "      <th>V25</th>\n",
              "      <th>V26</th>\n",
              "      <th>V27</th>\n",
              "      <th>V28</th>\n",
              "      <th>Amount</th>\n",
              "      <th>Class</th>\n",
              "    </tr>\n",
              "  </thead>\n",
              "  <tbody>\n",
              "    <tr>\n",
              "      <th>0</th>\n",
              "      <td>0.0</td>\n",
              "      <td>-1.359807</td>\n",
              "      <td>-0.072781</td>\n",
              "      <td>2.536347</td>\n",
              "      <td>1.378155</td>\n",
              "      <td>-0.338321</td>\n",
              "      <td>0.462388</td>\n",
              "      <td>0.239599</td>\n",
              "      <td>0.098698</td>\n",
              "      <td>0.363787</td>\n",
              "      <td>...</td>\n",
              "      <td>-0.018307</td>\n",
              "      <td>0.277838</td>\n",
              "      <td>-0.110474</td>\n",
              "      <td>0.066928</td>\n",
              "      <td>0.128539</td>\n",
              "      <td>-0.189115</td>\n",
              "      <td>0.133558</td>\n",
              "      <td>-0.021053</td>\n",
              "      <td>149.62</td>\n",
              "      <td>0</td>\n",
              "    </tr>\n",
              "    <tr>\n",
              "      <th>1</th>\n",
              "      <td>0.0</td>\n",
              "      <td>1.191857</td>\n",
              "      <td>0.266151</td>\n",
              "      <td>0.166480</td>\n",
              "      <td>0.448154</td>\n",
              "      <td>0.060018</td>\n",
              "      <td>-0.082361</td>\n",
              "      <td>-0.078803</td>\n",
              "      <td>0.085102</td>\n",
              "      <td>-0.255425</td>\n",
              "      <td>...</td>\n",
              "      <td>-0.225775</td>\n",
              "      <td>-0.638672</td>\n",
              "      <td>0.101288</td>\n",
              "      <td>-0.339846</td>\n",
              "      <td>0.167170</td>\n",
              "      <td>0.125895</td>\n",
              "      <td>-0.008983</td>\n",
              "      <td>0.014724</td>\n",
              "      <td>2.69</td>\n",
              "      <td>0</td>\n",
              "    </tr>\n",
              "    <tr>\n",
              "      <th>2</th>\n",
              "      <td>1.0</td>\n",
              "      <td>-1.358354</td>\n",
              "      <td>-1.340163</td>\n",
              "      <td>1.773209</td>\n",
              "      <td>0.379780</td>\n",
              "      <td>-0.503198</td>\n",
              "      <td>1.800499</td>\n",
              "      <td>0.791461</td>\n",
              "      <td>0.247676</td>\n",
              "      <td>-1.514654</td>\n",
              "      <td>...</td>\n",
              "      <td>0.247998</td>\n",
              "      <td>0.771679</td>\n",
              "      <td>0.909412</td>\n",
              "      <td>-0.689281</td>\n",
              "      <td>-0.327642</td>\n",
              "      <td>-0.139097</td>\n",
              "      <td>-0.055353</td>\n",
              "      <td>-0.059752</td>\n",
              "      <td>378.66</td>\n",
              "      <td>0</td>\n",
              "    </tr>\n",
              "    <tr>\n",
              "      <th>3</th>\n",
              "      <td>1.0</td>\n",
              "      <td>-0.966272</td>\n",
              "      <td>-0.185226</td>\n",
              "      <td>1.792993</td>\n",
              "      <td>-0.863291</td>\n",
              "      <td>-0.010309</td>\n",
              "      <td>1.247203</td>\n",
              "      <td>0.237609</td>\n",
              "      <td>0.377436</td>\n",
              "      <td>-1.387024</td>\n",
              "      <td>...</td>\n",
              "      <td>-0.108300</td>\n",
              "      <td>0.005274</td>\n",
              "      <td>-0.190321</td>\n",
              "      <td>-1.175575</td>\n",
              "      <td>0.647376</td>\n",
              "      <td>-0.221929</td>\n",
              "      <td>0.062723</td>\n",
              "      <td>0.061458</td>\n",
              "      <td>123.50</td>\n",
              "      <td>0</td>\n",
              "    </tr>\n",
              "    <tr>\n",
              "      <th>4</th>\n",
              "      <td>2.0</td>\n",
              "      <td>-1.158233</td>\n",
              "      <td>0.877737</td>\n",
              "      <td>1.548718</td>\n",
              "      <td>0.403034</td>\n",
              "      <td>-0.407193</td>\n",
              "      <td>0.095921</td>\n",
              "      <td>0.592941</td>\n",
              "      <td>-0.270533</td>\n",
              "      <td>0.817739</td>\n",
              "      <td>...</td>\n",
              "      <td>-0.009431</td>\n",
              "      <td>0.798278</td>\n",
              "      <td>-0.137458</td>\n",
              "      <td>0.141267</td>\n",
              "      <td>-0.206010</td>\n",
              "      <td>0.502292</td>\n",
              "      <td>0.219422</td>\n",
              "      <td>0.215153</td>\n",
              "      <td>69.99</td>\n",
              "      <td>0</td>\n",
              "    </tr>\n",
              "  </tbody>\n",
              "</table>\n",
              "<p>5 rows × 31 columns</p>\n",
              "</div>\n",
              "      <button class=\"colab-df-convert\" onclick=\"convertToInteractive('df-4d821577-6d35-4837-b607-70db66fa7924')\"\n",
              "              title=\"Convert this dataframe to an interactive table.\"\n",
              "              style=\"display:none;\">\n",
              "        \n",
              "  <svg xmlns=\"http://www.w3.org/2000/svg\" height=\"24px\"viewBox=\"0 0 24 24\"\n",
              "       width=\"24px\">\n",
              "    <path d=\"M0 0h24v24H0V0z\" fill=\"none\"/>\n",
              "    <path d=\"M18.56 5.44l.94 2.06.94-2.06 2.06-.94-2.06-.94-.94-2.06-.94 2.06-2.06.94zm-11 1L8.5 8.5l.94-2.06 2.06-.94-2.06-.94L8.5 2.5l-.94 2.06-2.06.94zm10 10l.94 2.06.94-2.06 2.06-.94-2.06-.94-.94-2.06-.94 2.06-2.06.94z\"/><path d=\"M17.41 7.96l-1.37-1.37c-.4-.4-.92-.59-1.43-.59-.52 0-1.04.2-1.43.59L10.3 9.45l-7.72 7.72c-.78.78-.78 2.05 0 2.83L4 21.41c.39.39.9.59 1.41.59.51 0 1.02-.2 1.41-.59l7.78-7.78 2.81-2.81c.8-.78.8-2.07 0-2.86zM5.41 20L4 18.59l7.72-7.72 1.47 1.35L5.41 20z\"/>\n",
              "  </svg>\n",
              "      </button>\n",
              "      \n",
              "  <style>\n",
              "    .colab-df-container {\n",
              "      display:flex;\n",
              "      flex-wrap:wrap;\n",
              "      gap: 12px;\n",
              "    }\n",
              "\n",
              "    .colab-df-convert {\n",
              "      background-color: #E8F0FE;\n",
              "      border: none;\n",
              "      border-radius: 50%;\n",
              "      cursor: pointer;\n",
              "      display: none;\n",
              "      fill: #1967D2;\n",
              "      height: 32px;\n",
              "      padding: 0 0 0 0;\n",
              "      width: 32px;\n",
              "    }\n",
              "\n",
              "    .colab-df-convert:hover {\n",
              "      background-color: #E2EBFA;\n",
              "      box-shadow: 0px 1px 2px rgba(60, 64, 67, 0.3), 0px 1px 3px 1px rgba(60, 64, 67, 0.15);\n",
              "      fill: #174EA6;\n",
              "    }\n",
              "\n",
              "    [theme=dark] .colab-df-convert {\n",
              "      background-color: #3B4455;\n",
              "      fill: #D2E3FC;\n",
              "    }\n",
              "\n",
              "    [theme=dark] .colab-df-convert:hover {\n",
              "      background-color: #434B5C;\n",
              "      box-shadow: 0px 1px 3px 1px rgba(0, 0, 0, 0.15);\n",
              "      filter: drop-shadow(0px 1px 2px rgba(0, 0, 0, 0.3));\n",
              "      fill: #FFFFFF;\n",
              "    }\n",
              "  </style>\n",
              "\n",
              "      <script>\n",
              "        const buttonEl =\n",
              "          document.querySelector('#df-4d821577-6d35-4837-b607-70db66fa7924 button.colab-df-convert');\n",
              "        buttonEl.style.display =\n",
              "          google.colab.kernel.accessAllowed ? 'block' : 'none';\n",
              "\n",
              "        async function convertToInteractive(key) {\n",
              "          const element = document.querySelector('#df-4d821577-6d35-4837-b607-70db66fa7924');\n",
              "          const dataTable =\n",
              "            await google.colab.kernel.invokeFunction('convertToInteractive',\n",
              "                                                     [key], {});\n",
              "          if (!dataTable) return;\n",
              "\n",
              "          const docLinkHtml = 'Like what you see? Visit the ' +\n",
              "            '<a target=\"_blank\" href=https://colab.research.google.com/notebooks/data_table.ipynb>data table notebook</a>'\n",
              "            + ' to learn more about interactive tables.';\n",
              "          element.innerHTML = '';\n",
              "          dataTable['output_type'] = 'display_data';\n",
              "          await google.colab.output.renderOutput(dataTable, element);\n",
              "          const docLink = document.createElement('div');\n",
              "          docLink.innerHTML = docLinkHtml;\n",
              "          element.appendChild(docLink);\n",
              "        }\n",
              "      </script>\n",
              "    </div>\n",
              "  </div>\n",
              "  "
            ]
          },
          "metadata": {},
          "execution_count": 3
        }
      ]
    },
    {
      "cell_type": "code",
      "source": [
        "raw_df.describe()"
      ],
      "metadata": {
        "colab": {
          "base_uri": "https://localhost:8080/",
          "height": 394
        },
        "id": "VU10btStvwIM",
        "outputId": "93bc58fb-463f-469b-9ad6-d26e635123fa"
      },
      "execution_count": 4,
      "outputs": [
        {
          "output_type": "execute_result",
          "data": {
            "text/plain": [
              "                Time            V1            V2            V3            V4  \\\n",
              "count  284807.000000  2.848070e+05  2.848070e+05  2.848070e+05  2.848070e+05   \n",
              "mean    94813.859575  1.168375e-15  3.416908e-16 -1.379537e-15  2.074095e-15   \n",
              "std     47488.145955  1.958696e+00  1.651309e+00  1.516255e+00  1.415869e+00   \n",
              "min         0.000000 -5.640751e+01 -7.271573e+01 -4.832559e+01 -5.683171e+00   \n",
              "25%     54201.500000 -9.203734e-01 -5.985499e-01 -8.903648e-01 -8.486401e-01   \n",
              "50%     84692.000000  1.810880e-02  6.548556e-02  1.798463e-01 -1.984653e-02   \n",
              "75%    139320.500000  1.315642e+00  8.037239e-01  1.027196e+00  7.433413e-01   \n",
              "max    172792.000000  2.454930e+00  2.205773e+01  9.382558e+00  1.687534e+01   \n",
              "\n",
              "                 V5            V6            V7            V8            V9  \\\n",
              "count  2.848070e+05  2.848070e+05  2.848070e+05  2.848070e+05  2.848070e+05   \n",
              "mean   9.604066e-16  1.487313e-15 -5.556467e-16  1.213481e-16 -2.406331e-15   \n",
              "std    1.380247e+00  1.332271e+00  1.237094e+00  1.194353e+00  1.098632e+00   \n",
              "min   -1.137433e+02 -2.616051e+01 -4.355724e+01 -7.321672e+01 -1.343407e+01   \n",
              "25%   -6.915971e-01 -7.682956e-01 -5.540759e-01 -2.086297e-01 -6.430976e-01   \n",
              "50%   -5.433583e-02 -2.741871e-01  4.010308e-02  2.235804e-02 -5.142873e-02   \n",
              "75%    6.119264e-01  3.985649e-01  5.704361e-01  3.273459e-01  5.971390e-01   \n",
              "max    3.480167e+01  7.330163e+01  1.205895e+02  2.000721e+01  1.559499e+01   \n",
              "\n",
              "       ...           V21           V22           V23           V24  \\\n",
              "count  ...  2.848070e+05  2.848070e+05  2.848070e+05  2.848070e+05   \n",
              "mean   ...  1.654067e-16 -3.568593e-16  2.578648e-16  4.473266e-15   \n",
              "std    ...  7.345240e-01  7.257016e-01  6.244603e-01  6.056471e-01   \n",
              "min    ... -3.483038e+01 -1.093314e+01 -4.480774e+01 -2.836627e+00   \n",
              "25%    ... -2.283949e-01 -5.423504e-01 -1.618463e-01 -3.545861e-01   \n",
              "50%    ... -2.945017e-02  6.781943e-03 -1.119293e-02  4.097606e-02   \n",
              "75%    ...  1.863772e-01  5.285536e-01  1.476421e-01  4.395266e-01   \n",
              "max    ...  2.720284e+01  1.050309e+01  2.252841e+01  4.584549e+00   \n",
              "\n",
              "                V25           V26           V27           V28         Amount  \\\n",
              "count  2.848070e+05  2.848070e+05  2.848070e+05  2.848070e+05  284807.000000   \n",
              "mean   5.340915e-16  1.683437e-15 -3.660091e-16 -1.227390e-16      88.349619   \n",
              "std    5.212781e-01  4.822270e-01  4.036325e-01  3.300833e-01     250.120109   \n",
              "min   -1.029540e+01 -2.604551e+00 -2.256568e+01 -1.543008e+01       0.000000   \n",
              "25%   -3.171451e-01 -3.269839e-01 -7.083953e-02 -5.295979e-02       5.600000   \n",
              "50%    1.659350e-02 -5.213911e-02  1.342146e-03  1.124383e-02      22.000000   \n",
              "75%    3.507156e-01  2.409522e-01  9.104512e-02  7.827995e-02      77.165000   \n",
              "max    7.519589e+00  3.517346e+00  3.161220e+01  3.384781e+01   25691.160000   \n",
              "\n",
              "               Class  \n",
              "count  284807.000000  \n",
              "mean        0.001727  \n",
              "std         0.041527  \n",
              "min         0.000000  \n",
              "25%         0.000000  \n",
              "50%         0.000000  \n",
              "75%         0.000000  \n",
              "max         1.000000  \n",
              "\n",
              "[8 rows x 31 columns]"
            ],
            "text/html": [
              "\n",
              "  <div id=\"df-f33db10e-19ad-45cf-81da-23b85b416718\">\n",
              "    <div class=\"colab-df-container\">\n",
              "      <div>\n",
              "<style scoped>\n",
              "    .dataframe tbody tr th:only-of-type {\n",
              "        vertical-align: middle;\n",
              "    }\n",
              "\n",
              "    .dataframe tbody tr th {\n",
              "        vertical-align: top;\n",
              "    }\n",
              "\n",
              "    .dataframe thead th {\n",
              "        text-align: right;\n",
              "    }\n",
              "</style>\n",
              "<table border=\"1\" class=\"dataframe\">\n",
              "  <thead>\n",
              "    <tr style=\"text-align: right;\">\n",
              "      <th></th>\n",
              "      <th>Time</th>\n",
              "      <th>V1</th>\n",
              "      <th>V2</th>\n",
              "      <th>V3</th>\n",
              "      <th>V4</th>\n",
              "      <th>V5</th>\n",
              "      <th>V6</th>\n",
              "      <th>V7</th>\n",
              "      <th>V8</th>\n",
              "      <th>V9</th>\n",
              "      <th>...</th>\n",
              "      <th>V21</th>\n",
              "      <th>V22</th>\n",
              "      <th>V23</th>\n",
              "      <th>V24</th>\n",
              "      <th>V25</th>\n",
              "      <th>V26</th>\n",
              "      <th>V27</th>\n",
              "      <th>V28</th>\n",
              "      <th>Amount</th>\n",
              "      <th>Class</th>\n",
              "    </tr>\n",
              "  </thead>\n",
              "  <tbody>\n",
              "    <tr>\n",
              "      <th>count</th>\n",
              "      <td>284807.000000</td>\n",
              "      <td>2.848070e+05</td>\n",
              "      <td>2.848070e+05</td>\n",
              "      <td>2.848070e+05</td>\n",
              "      <td>2.848070e+05</td>\n",
              "      <td>2.848070e+05</td>\n",
              "      <td>2.848070e+05</td>\n",
              "      <td>2.848070e+05</td>\n",
              "      <td>2.848070e+05</td>\n",
              "      <td>2.848070e+05</td>\n",
              "      <td>...</td>\n",
              "      <td>2.848070e+05</td>\n",
              "      <td>2.848070e+05</td>\n",
              "      <td>2.848070e+05</td>\n",
              "      <td>2.848070e+05</td>\n",
              "      <td>2.848070e+05</td>\n",
              "      <td>2.848070e+05</td>\n",
              "      <td>2.848070e+05</td>\n",
              "      <td>2.848070e+05</td>\n",
              "      <td>284807.000000</td>\n",
              "      <td>284807.000000</td>\n",
              "    </tr>\n",
              "    <tr>\n",
              "      <th>mean</th>\n",
              "      <td>94813.859575</td>\n",
              "      <td>1.168375e-15</td>\n",
              "      <td>3.416908e-16</td>\n",
              "      <td>-1.379537e-15</td>\n",
              "      <td>2.074095e-15</td>\n",
              "      <td>9.604066e-16</td>\n",
              "      <td>1.487313e-15</td>\n",
              "      <td>-5.556467e-16</td>\n",
              "      <td>1.213481e-16</td>\n",
              "      <td>-2.406331e-15</td>\n",
              "      <td>...</td>\n",
              "      <td>1.654067e-16</td>\n",
              "      <td>-3.568593e-16</td>\n",
              "      <td>2.578648e-16</td>\n",
              "      <td>4.473266e-15</td>\n",
              "      <td>5.340915e-16</td>\n",
              "      <td>1.683437e-15</td>\n",
              "      <td>-3.660091e-16</td>\n",
              "      <td>-1.227390e-16</td>\n",
              "      <td>88.349619</td>\n",
              "      <td>0.001727</td>\n",
              "    </tr>\n",
              "    <tr>\n",
              "      <th>std</th>\n",
              "      <td>47488.145955</td>\n",
              "      <td>1.958696e+00</td>\n",
              "      <td>1.651309e+00</td>\n",
              "      <td>1.516255e+00</td>\n",
              "      <td>1.415869e+00</td>\n",
              "      <td>1.380247e+00</td>\n",
              "      <td>1.332271e+00</td>\n",
              "      <td>1.237094e+00</td>\n",
              "      <td>1.194353e+00</td>\n",
              "      <td>1.098632e+00</td>\n",
              "      <td>...</td>\n",
              "      <td>7.345240e-01</td>\n",
              "      <td>7.257016e-01</td>\n",
              "      <td>6.244603e-01</td>\n",
              "      <td>6.056471e-01</td>\n",
              "      <td>5.212781e-01</td>\n",
              "      <td>4.822270e-01</td>\n",
              "      <td>4.036325e-01</td>\n",
              "      <td>3.300833e-01</td>\n",
              "      <td>250.120109</td>\n",
              "      <td>0.041527</td>\n",
              "    </tr>\n",
              "    <tr>\n",
              "      <th>min</th>\n",
              "      <td>0.000000</td>\n",
              "      <td>-5.640751e+01</td>\n",
              "      <td>-7.271573e+01</td>\n",
              "      <td>-4.832559e+01</td>\n",
              "      <td>-5.683171e+00</td>\n",
              "      <td>-1.137433e+02</td>\n",
              "      <td>-2.616051e+01</td>\n",
              "      <td>-4.355724e+01</td>\n",
              "      <td>-7.321672e+01</td>\n",
              "      <td>-1.343407e+01</td>\n",
              "      <td>...</td>\n",
              "      <td>-3.483038e+01</td>\n",
              "      <td>-1.093314e+01</td>\n",
              "      <td>-4.480774e+01</td>\n",
              "      <td>-2.836627e+00</td>\n",
              "      <td>-1.029540e+01</td>\n",
              "      <td>-2.604551e+00</td>\n",
              "      <td>-2.256568e+01</td>\n",
              "      <td>-1.543008e+01</td>\n",
              "      <td>0.000000</td>\n",
              "      <td>0.000000</td>\n",
              "    </tr>\n",
              "    <tr>\n",
              "      <th>25%</th>\n",
              "      <td>54201.500000</td>\n",
              "      <td>-9.203734e-01</td>\n",
              "      <td>-5.985499e-01</td>\n",
              "      <td>-8.903648e-01</td>\n",
              "      <td>-8.486401e-01</td>\n",
              "      <td>-6.915971e-01</td>\n",
              "      <td>-7.682956e-01</td>\n",
              "      <td>-5.540759e-01</td>\n",
              "      <td>-2.086297e-01</td>\n",
              "      <td>-6.430976e-01</td>\n",
              "      <td>...</td>\n",
              "      <td>-2.283949e-01</td>\n",
              "      <td>-5.423504e-01</td>\n",
              "      <td>-1.618463e-01</td>\n",
              "      <td>-3.545861e-01</td>\n",
              "      <td>-3.171451e-01</td>\n",
              "      <td>-3.269839e-01</td>\n",
              "      <td>-7.083953e-02</td>\n",
              "      <td>-5.295979e-02</td>\n",
              "      <td>5.600000</td>\n",
              "      <td>0.000000</td>\n",
              "    </tr>\n",
              "    <tr>\n",
              "      <th>50%</th>\n",
              "      <td>84692.000000</td>\n",
              "      <td>1.810880e-02</td>\n",
              "      <td>6.548556e-02</td>\n",
              "      <td>1.798463e-01</td>\n",
              "      <td>-1.984653e-02</td>\n",
              "      <td>-5.433583e-02</td>\n",
              "      <td>-2.741871e-01</td>\n",
              "      <td>4.010308e-02</td>\n",
              "      <td>2.235804e-02</td>\n",
              "      <td>-5.142873e-02</td>\n",
              "      <td>...</td>\n",
              "      <td>-2.945017e-02</td>\n",
              "      <td>6.781943e-03</td>\n",
              "      <td>-1.119293e-02</td>\n",
              "      <td>4.097606e-02</td>\n",
              "      <td>1.659350e-02</td>\n",
              "      <td>-5.213911e-02</td>\n",
              "      <td>1.342146e-03</td>\n",
              "      <td>1.124383e-02</td>\n",
              "      <td>22.000000</td>\n",
              "      <td>0.000000</td>\n",
              "    </tr>\n",
              "    <tr>\n",
              "      <th>75%</th>\n",
              "      <td>139320.500000</td>\n",
              "      <td>1.315642e+00</td>\n",
              "      <td>8.037239e-01</td>\n",
              "      <td>1.027196e+00</td>\n",
              "      <td>7.433413e-01</td>\n",
              "      <td>6.119264e-01</td>\n",
              "      <td>3.985649e-01</td>\n",
              "      <td>5.704361e-01</td>\n",
              "      <td>3.273459e-01</td>\n",
              "      <td>5.971390e-01</td>\n",
              "      <td>...</td>\n",
              "      <td>1.863772e-01</td>\n",
              "      <td>5.285536e-01</td>\n",
              "      <td>1.476421e-01</td>\n",
              "      <td>4.395266e-01</td>\n",
              "      <td>3.507156e-01</td>\n",
              "      <td>2.409522e-01</td>\n",
              "      <td>9.104512e-02</td>\n",
              "      <td>7.827995e-02</td>\n",
              "      <td>77.165000</td>\n",
              "      <td>0.000000</td>\n",
              "    </tr>\n",
              "    <tr>\n",
              "      <th>max</th>\n",
              "      <td>172792.000000</td>\n",
              "      <td>2.454930e+00</td>\n",
              "      <td>2.205773e+01</td>\n",
              "      <td>9.382558e+00</td>\n",
              "      <td>1.687534e+01</td>\n",
              "      <td>3.480167e+01</td>\n",
              "      <td>7.330163e+01</td>\n",
              "      <td>1.205895e+02</td>\n",
              "      <td>2.000721e+01</td>\n",
              "      <td>1.559499e+01</td>\n",
              "      <td>...</td>\n",
              "      <td>2.720284e+01</td>\n",
              "      <td>1.050309e+01</td>\n",
              "      <td>2.252841e+01</td>\n",
              "      <td>4.584549e+00</td>\n",
              "      <td>7.519589e+00</td>\n",
              "      <td>3.517346e+00</td>\n",
              "      <td>3.161220e+01</td>\n",
              "      <td>3.384781e+01</td>\n",
              "      <td>25691.160000</td>\n",
              "      <td>1.000000</td>\n",
              "    </tr>\n",
              "  </tbody>\n",
              "</table>\n",
              "<p>8 rows × 31 columns</p>\n",
              "</div>\n",
              "      <button class=\"colab-df-convert\" onclick=\"convertToInteractive('df-f33db10e-19ad-45cf-81da-23b85b416718')\"\n",
              "              title=\"Convert this dataframe to an interactive table.\"\n",
              "              style=\"display:none;\">\n",
              "        \n",
              "  <svg xmlns=\"http://www.w3.org/2000/svg\" height=\"24px\"viewBox=\"0 0 24 24\"\n",
              "       width=\"24px\">\n",
              "    <path d=\"M0 0h24v24H0V0z\" fill=\"none\"/>\n",
              "    <path d=\"M18.56 5.44l.94 2.06.94-2.06 2.06-.94-2.06-.94-.94-2.06-.94 2.06-2.06.94zm-11 1L8.5 8.5l.94-2.06 2.06-.94-2.06-.94L8.5 2.5l-.94 2.06-2.06.94zm10 10l.94 2.06.94-2.06 2.06-.94-2.06-.94-.94-2.06-.94 2.06-2.06.94z\"/><path d=\"M17.41 7.96l-1.37-1.37c-.4-.4-.92-.59-1.43-.59-.52 0-1.04.2-1.43.59L10.3 9.45l-7.72 7.72c-.78.78-.78 2.05 0 2.83L4 21.41c.39.39.9.59 1.41.59.51 0 1.02-.2 1.41-.59l7.78-7.78 2.81-2.81c.8-.78.8-2.07 0-2.86zM5.41 20L4 18.59l7.72-7.72 1.47 1.35L5.41 20z\"/>\n",
              "  </svg>\n",
              "      </button>\n",
              "      \n",
              "  <style>\n",
              "    .colab-df-container {\n",
              "      display:flex;\n",
              "      flex-wrap:wrap;\n",
              "      gap: 12px;\n",
              "    }\n",
              "\n",
              "    .colab-df-convert {\n",
              "      background-color: #E8F0FE;\n",
              "      border: none;\n",
              "      border-radius: 50%;\n",
              "      cursor: pointer;\n",
              "      display: none;\n",
              "      fill: #1967D2;\n",
              "      height: 32px;\n",
              "      padding: 0 0 0 0;\n",
              "      width: 32px;\n",
              "    }\n",
              "\n",
              "    .colab-df-convert:hover {\n",
              "      background-color: #E2EBFA;\n",
              "      box-shadow: 0px 1px 2px rgba(60, 64, 67, 0.3), 0px 1px 3px 1px rgba(60, 64, 67, 0.15);\n",
              "      fill: #174EA6;\n",
              "    }\n",
              "\n",
              "    [theme=dark] .colab-df-convert {\n",
              "      background-color: #3B4455;\n",
              "      fill: #D2E3FC;\n",
              "    }\n",
              "\n",
              "    [theme=dark] .colab-df-convert:hover {\n",
              "      background-color: #434B5C;\n",
              "      box-shadow: 0px 1px 3px 1px rgba(0, 0, 0, 0.15);\n",
              "      filter: drop-shadow(0px 1px 2px rgba(0, 0, 0, 0.3));\n",
              "      fill: #FFFFFF;\n",
              "    }\n",
              "  </style>\n",
              "\n",
              "      <script>\n",
              "        const buttonEl =\n",
              "          document.querySelector('#df-f33db10e-19ad-45cf-81da-23b85b416718 button.colab-df-convert');\n",
              "        buttonEl.style.display =\n",
              "          google.colab.kernel.accessAllowed ? 'block' : 'none';\n",
              "\n",
              "        async function convertToInteractive(key) {\n",
              "          const element = document.querySelector('#df-f33db10e-19ad-45cf-81da-23b85b416718');\n",
              "          const dataTable =\n",
              "            await google.colab.kernel.invokeFunction('convertToInteractive',\n",
              "                                                     [key], {});\n",
              "          if (!dataTable) return;\n",
              "\n",
              "          const docLinkHtml = 'Like what you see? Visit the ' +\n",
              "            '<a target=\"_blank\" href=https://colab.research.google.com/notebooks/data_table.ipynb>data table notebook</a>'\n",
              "            + ' to learn more about interactive tables.';\n",
              "          element.innerHTML = '';\n",
              "          dataTable['output_type'] = 'display_data';\n",
              "          await google.colab.output.renderOutput(dataTable, element);\n",
              "          const docLink = document.createElement('div');\n",
              "          docLink.innerHTML = docLinkHtml;\n",
              "          element.appendChild(docLink);\n",
              "        }\n",
              "      </script>\n",
              "    </div>\n",
              "  </div>\n",
              "  "
            ]
          },
          "metadata": {},
          "execution_count": 4
        }
      ]
    },
    {
      "cell_type": "code",
      "source": [
        "neg, pos = np.bincount(raw_df['Class'])\n",
        "total = neg+ pos\n",
        "print (f\"Total examples: {total}, Positive: {pos}, which is {100 * pos / total}% of total\")"
      ],
      "metadata": {
        "colab": {
          "base_uri": "https://localhost:8080/"
        },
        "id": "i5XxtqUvv_dj",
        "outputId": "b8444aea-6252-4ea3-b886-504fd03c7e66"
      },
      "execution_count": 5,
      "outputs": [
        {
          "output_type": "stream",
          "name": "stdout",
          "text": [
            "Total examples: 284807, Positive: 492, which is 0.1727485630620034% of total\n"
          ]
        }
      ]
    },
    {
      "cell_type": "code",
      "source": [
        "cleaned_df = raw_df.copy()\n",
        "\n",
        "# Drop the time column\n",
        "cleaned_df.pop('Time')\n",
        "\n",
        "# Convert the amount column to log space\n",
        "eps = 0.001\n",
        "cleaned_df['Log Amount'] = np.log(cleaned_df.pop('Amount')+eps)"
      ],
      "metadata": {
        "id": "7i8XvDggwlua"
      },
      "execution_count": 6,
      "outputs": []
    },
    {
      "cell_type": "code",
      "source": [
        "# Use the sklearn utility to split into train, test and validation\n",
        "# The parameter \"test_size\" simpl yrefers to how big the second set is\n",
        "\n",
        "train_df, test_df = train_test_split(cleaned_df, test_size = 0.2)\n",
        "train_df, val_df = train_test_split(train_df, test_size = 0.2)\n",
        "\n",
        "# Form np arrays of labels and features\n",
        "# This line does two things:\n",
        "# 1. 'Pop's the 'Class' column from the train_df\n",
        "# 2. Assigns the now popped column into a labels dataframe\n",
        "train_labels = np.array(train_df.pop('Class'))\n",
        "\n",
        "bool_train_labels = train_labels != 0\n",
        "val_labels = np.array(val_df.pop('Class'))\n",
        "test_labels = np.array(test_df.pop('Class'))\n",
        "\n",
        "train_features = np.array(train_df)\n",
        "val_features = np.array(val_df)\n",
        "test_features = np.array(test_df)"
      ],
      "metadata": {
        "id": "ZYtqiy5f1Wjz"
      },
      "execution_count": 7,
      "outputs": []
    },
    {
      "cell_type": "code",
      "source": [
        "# Normalize input features using StandardScaler\n",
        "# Note that it is important to do this now, after the split\n",
        "# to avoid the spillover of test and validation data into the training set\n",
        "\n",
        "# Also, we only fit the scaler to the train values!!!\n",
        "\n",
        "scaler = StandardScaler()\n",
        "train_features = scaler.fit_transform(train_features)\n",
        "\n",
        "val_features = scaler.transform(val_features)\n",
        "test_features = scaler.transform(test_features)\n",
        "                                 \n",
        "train_features = np.clip(train_features, -5, 5)\n",
        "val_features = np.clip(val_features, -5, 5)\n",
        "test_features = np.clip(test_features, -5, 5)\n",
        "\n",
        "print(f\"Training labels shape: {train_labels.shape}\")\n",
        "print(f\"Validations labels shape: {val_labels.shape}\")\n",
        "print(f\"Test labels shape: {test_labels.shape}\")\n",
        "\n",
        "print(f\"Training features shape: {train_features.shape}\")\n",
        "print(f\"Validation features shape: {val_features.shape}\")\n",
        "print(f\"Test features shape: {test_features.shape}\")\n",
        "\n"
      ],
      "metadata": {
        "colab": {
          "base_uri": "https://localhost:8080/"
        },
        "id": "XxQnjKYh3swJ",
        "outputId": "919884cb-cd7e-4232-cbfa-61e5b85f1ab6"
      },
      "execution_count": 8,
      "outputs": [
        {
          "output_type": "stream",
          "name": "stdout",
          "text": [
            "Training labels shape: (182276,)\n",
            "Validations labels shape: (45569,)\n",
            "Test labels shape: (56962,)\n",
            "Training features shape: (182276, 29)\n",
            "Validation features shape: (45569, 29)\n",
            "Test features shape: (56962, 29)\n"
          ]
        }
      ]
    },
    {
      "cell_type": "code",
      "source": [
        "pos_df = pd.DataFrame(train_features[ bool_train_labels], columns = train_df.columns)\n",
        "neg_df = pd.DataFrame(train_features[~bool_train_labels], columns = train_df.columns)\n",
        "\n",
        "sns.jointplot(x=pos_df['V5'], y=pos_df['V6'], kind='hex', xlim=(-5,5), ylim=(-5,5))\n",
        "\n",
        "sns.jointplot(x=neg_df['V5'], y=neg_df['V6'], kind = 'hex', xlim=(-5,5), ylim=(-5,5))\n",
        "\n",
        "_ = plt.suptitle(\"Negative distribution\")"
      ],
      "metadata": {
        "colab": {
          "base_uri": "https://localhost:8080/",
          "height": 867
        },
        "id": "M7xLGoXT5i1t",
        "outputId": "a43b2124-65ab-423a-ba14-9ed1e76d778f"
      },
      "execution_count": 9,
      "outputs": [
        {
          "output_type": "display_data",
          "data": {
            "text/plain": [
              "<Figure size 432x432 with 3 Axes>"
            ],
            "image/png": "[encoded data removed]"
          },
          "metadata": {
            "needs_background": "light"
          }
        },
        {
          "output_type": "display_data",
          "data": {
            "text/plain": [
              "<Figure size 432x432 with 3 Axes>"
            ],
            "image/png": "[encoded data removed]"
          },
          "metadata": {
            "needs_background": "light"
          }
        }
      ]
    },
    {
      "cell_type": "code",
      "source": [
        "METRICS = [\n",
        "           keras.metrics.TruePositives(name='tp'),\n",
        "           keras.metrics.FalsePositives(name='fp'),\n",
        "           keras.metrics.TrueNegatives(name='tn'),\n",
        "           keras.metrics.FalseNegatives(name='fn'),\n",
        "           keras.metrics.BinaryAccuracy(name='accuracy'),\n",
        "           keras.metrics.Precision(name='precision'),\n",
        "           keras.metrics.Recall(name='recall'),\n",
        "           keras.metrics.AUC(name='auc'),\n",
        "           keras.metrics.AUC(name='prc', curve='PR'), # Precision-recall curve\n",
        "]\n",
        "\n",
        "def make_model(metrics=METRICS, output_bias=None):\n",
        "  if output_bias is not None:\n",
        "    output_bias = tf.keras.initializers.Constant(output_bias)\n",
        "  \n",
        "  model = keras.Sequential([\n",
        "      keras.layers.Dense(16, activation='relu', input_shape = (train_features.shape[-1],)),\n",
        "      keras.layers.Dropout(0.5),\n",
        "      keras.layers.Dense(1, activation='sigmoid', bias_initializer=output_bias),\n",
        "  ])\n",
        "\n",
        "  model.compile(optimizer=keras.optimizers.Adam(learning_rate=1e-3),\n",
        "                loss=keras.losses.BinaryCrossentropy(),\n",
        "                metrics=metrics)\n",
        "  \n",
        "  return model"
      ],
      "metadata": {
        "id": "Zl4AoogK_Fwv"
      },
      "execution_count": 10,
      "outputs": []
    },
    {
      "cell_type": "code",
      "source": [
        "EPOCHS = 100\n",
        "BATCH_SIZE = 2048\n",
        "\n",
        "early_stopping = tf.keras.callbacks.EarlyStopping(\n",
        "    monitor = 'val_prc',\n",
        "    verbose = 1,\n",
        "     patience = 10,\n",
        "     mode = 'max',\n",
        "     restore_best_weights = True\n",
        ")"
      ],
      "metadata": {
        "id": "x56eczyvoJ_u"
      },
      "execution_count": 11,
      "outputs": []
    },
    {
      "cell_type": "code",
      "source": [
        "model = make_model()\n",
        "model.summary()"
      ],
      "metadata": {
        "colab": {
          "base_uri": "https://localhost:8080/"
        },
        "id": "ZDY0hbgLo9Av",
        "outputId": "62d909b6-8579-45ba-90fc-da402a3c8079"
      },
      "execution_count": 12,
      "outputs": [
        {
          "output_type": "stream",
          "name": "stdout",
          "text": [
            "Model: \"sequential\"\n",
            "_________________________________________________________________\n",
            " Layer (type)                Output Shape              Param #   \n",
            "=================================================================\n",
            " dense (Dense)               (None, 16)                480       \n",
            "                                                                 \n",
            " dropout (Dropout)           (None, 16)                0         \n",
            "                                                                 \n",
            " dense_1 (Dense)             (None, 1)                 17        \n",
            "                                                                 \n",
            "=================================================================\n",
            "Total params: 497\n",
            "Trainable params: 497\n",
            "Non-trainable params: 0\n",
            "_________________________________________________________________\n"
          ]
        }
      ]
    },
    {
      "cell_type": "code",
      "source": [
        "model.predict(train_features[:10])"
      ],
      "metadata": {
        "colab": {
          "base_uri": "https://localhost:8080/"
        },
        "id": "u8bhIsNIpGzX",
        "outputId": "19ca24fc-4522-4f95-d20d-aa89307e6c0a"
      },
      "execution_count": 13,
      "outputs": [
        {
          "output_type": "execute_result",
          "data": {
            "text/plain": [
              "array([[0.7476893 ],\n",
              "       [0.7047777 ],\n",
              "       [0.31301194],\n",
              "       [0.6477743 ],\n",
              "       [0.46679318],\n",
              "       [0.96029514],\n",
              "       [0.99767035],\n",
              "       [0.96880853],\n",
              "       [0.9123734 ],\n",
              "       [0.9357954 ]], dtype=float32)"
            ]
          },
          "metadata": {},
          "execution_count": 13
        }
      ]
    },
    {
      "cell_type": "code",
      "source": [
        "# Set the correct initial bias = log(pos/neg)\n",
        "\n",
        "results = model.evaluate(train_features, train_labels, batch_size=BATCH_SIZE, verbose=0)\n",
        "print(f\"Loss: {results[0]}\")"
      ],
      "metadata": {
        "colab": {
          "base_uri": "https://localhost:8080/"
        },
        "id": "zrD3XY7HpTMS",
        "outputId": "616f3fe0-8202-410b-c626-5828b48276f0"
      },
      "execution_count": 14,
      "outputs": [
        {
          "output_type": "stream",
          "name": "stdout",
          "text": [
            "Loss: 1.4380335807800293\n"
          ]
        }
      ]
    },
    {
      "cell_type": "code",
      "source": [
        "initial_bias = np.log([pos/neg])\n",
        "initial_bias"
      ],
      "metadata": {
        "colab": {
          "base_uri": "https://localhost:8080/"
        },
        "id": "CgRKP_MtuzDb",
        "outputId": "51058323-9354-44af-90df-b8aad2411597"
      },
      "execution_count": 15,
      "outputs": [
        {
          "output_type": "execute_result",
          "data": {
            "text/plain": [
              "array([-6.35935934])"
            ]
          },
          "metadata": {},
          "execution_count": 15
        }
      ]
    },
    {
      "cell_type": "code",
      "source": [
        "model = make_model(output_bias = initial_bias)\n",
        "model.predict(train_features[:10])"
      ],
      "metadata": {
        "colab": {
          "base_uri": "https://localhost:8080/"
        },
        "id": "xoeHehX5u729",
        "outputId": "5e89b5d6-66b6-416d-8c14-8d0f1fe497ec"
      },
      "execution_count": 16,
      "outputs": [
        {
          "output_type": "execute_result",
          "data": {
            "text/plain": [
              "array([[0.00109458],\n",
              "       [0.00395191],\n",
              "       [0.00164452],\n",
              "       [0.00112128],\n",
              "       [0.00275716],\n",
              "       [0.00116146],\n",
              "       [0.01849735],\n",
              "       [0.00302169],\n",
              "       [0.01861531],\n",
              "       [0.00223324]], dtype=float32)"
            ]
          },
          "metadata": {},
          "execution_count": 16
        }
      ]
    },
    {
      "cell_type": "code",
      "source": [
        "results = model.evaluate(train_features, train_labels, batch_size=BATCH_SIZE, verbose=0)\n",
        "print(f\"Loss: {results[0]}\")"
      ],
      "metadata": {
        "colab": {
          "base_uri": "https://localhost:8080/"
        },
        "id": "JjCSqawvvLmL",
        "outputId": "8172bf25-7ec6-40fc-bb46-2ea5f5314cbb"
      },
      "execution_count": 17,
      "outputs": [
        {
          "output_type": "stream",
          "name": "stdout",
          "text": [
            "Loss: 0.015539461746811867\n"
          ]
        }
      ]
    },
    {
      "cell_type": "code",
      "source": [
        "# Chekpoint the initial weights\n",
        "\n",
        "initial_weights = os.path.join(tempfile.mkdtemp(), 'initial_weights')\n",
        "model.save_weights(initial_weights)"
      ],
      "metadata": {
        "id": "Px3tPHlpveM7"
      },
      "execution_count": 18,
      "outputs": []
    },
    {
      "cell_type": "code",
      "source": [
        "model = make_model()\n",
        "model.load_weights(initial_weights)\n",
        "model.layers[-1].bias.assign([0.0])\n",
        "\n",
        "zero_bias_history = model.fit(\n",
        "                        train_features, \n",
        "                        train_labels,\n",
        "                        batch_size = BATCH_SIZE,\n",
        "                        epochs = 20,\n",
        "                        validation_data = (val_features, val_labels),\n",
        "                        verbose = 0)"
      ],
      "metadata": {
        "id": "Sz5iEToow0ig"
      },
      "execution_count": 19,
      "outputs": []
    },
    {
      "cell_type": "code",
      "source": [
        "model = make_model()\n",
        "model.load_weights(initial_weights)\n",
        "\n",
        "careful_bias_history = model.fit(\n",
        "                        train_features,\n",
        "                        train_labels,\n",
        "                        batch_size = BATCH_SIZE,\n",
        "                        epochs = 20,\n",
        "                        validation_data = (val_features, val_labels),\n",
        "                        verbose = 0\n",
        "                        )"
      ],
      "metadata": {
        "id": "E_UkkmJF6hKi"
      },
      "execution_count": 20,
      "outputs": []
    },
    {
      "cell_type": "code",
      "source": [
        "def plot_loss(history, label, n):\n",
        "  #Use a log scale on y-axis to show the wide range of values.\n",
        "  plt.semilogy(history.epoch, history.history['loss'],\n",
        "               color=colors[n], label = 'Train' + label)\n",
        "  \n",
        "  plt.semilogy(history.epoch, history.history['val_loss'],\n",
        "               color=colors[n], label = 'Validation loss' + label,\n",
        "               linestyle = '--')\n",
        "  \n",
        "  plt.xlabel('Epoch')\n",
        "  plt.ylabel('loss')"
      ],
      "metadata": {
        "id": "U0BAe-8k62Pq"
      },
      "execution_count": 23,
      "outputs": []
    },
    {
      "cell_type": "code",
      "source": [
        "plot_loss(zero_bias_history, \"Zero Bias\", 0)\n",
        "plot_loss(careful_bias_history, \"Careful Bias\", 1)"
      ],
      "metadata": {
        "colab": {
          "base_uri": "https://localhost:8080/",
          "height": 606
        },
        "id": "8YltYj9f8Fxz",
        "outputId": "81b5ca09-ddce-4e1d-bd0d-f77c04ab1982"
      },
      "execution_count": 24,
      "outputs": [
        {
          "output_type": "display_data",
          "data": {
            "text/plain": [
              "<Figure size 864x720 with 1 Axes>"
            ],
            "image/png": "[encoded data removed]"
          },
          "metadata": {
            "needs_background": "light"
          }
        }
      ]
    },
    {
      "cell_type": "code",
      "source": [
        "model = make_model()\n",
        "model.load_weights(initial_weights)\n",
        "baseline_history = model.fit(\n",
        "    train_features,\n",
        "    train_labels,\n",
        "    batch_size = BATCH_SIZE,\n",
        "    epochs = EPOCHS,\n",
        "    callbacks = [early_stopping],\n",
        "    validation_data = (val_features, val_labels)\n",
        ")"
      ],
      "metadata": {
        "colab": {
          "base_uri": "https://localhost:8080/"
        },
        "id": "N4V2kySv8uay",
        "outputId": "935af2ae-7edf-4fec-b99b-c182ba104d48"
      },
      "execution_count": 25,
      "outputs": [
        {
          "output_type": "stream",
          "name": "stdout",
          "text": [
            "Epoch 1/100\n",
            "90/90 [==============================] - 6s 28ms/step - loss: 0.0137 - tp: 68.0000 - fp: 114.0000 - tn: 227343.0000 - fn: 320.0000 - accuracy: 0.9981 - precision: 0.3736 - recall: 0.1753 - auc: 0.7301 - prc: 0.1581 - val_loss: 0.0077 - val_tp: 0.0000e+00 - val_fp: 0.0000e+00 - val_tn: 45493.0000 - val_fn: 76.0000 - val_accuracy: 0.9983 - val_precision: 0.0000e+00 - val_recall: 0.0000e+00 - val_auc: 0.9321 - val_prc: 0.4825\n",
            "Epoch 2/100\n",
            "90/90 [==============================] - 1s 9ms/step - loss: 0.0079 - tp: 63.0000 - fp: 30.0000 - tn: 181934.0000 - fn: 249.0000 - accuracy: 0.9985 - precision: 0.6774 - recall: 0.2019 - auc: 0.8710 - prc: 0.3330 - val_loss: 0.0043 - val_tp: 22.0000 - val_fp: 6.0000 - val_tn: 45487.0000 - val_fn: 54.0000 - val_accuracy: 0.9987 - val_precision: 0.7857 - val_recall: 0.2895 - val_auc: 0.9600 - val_prc: 0.7439\n",
            "Epoch 3/100\n",
            "90/90 [==============================] - 1s 13ms/step - loss: 0.0061 - tp: 123.0000 - fp: 23.0000 - tn: 181941.0000 - fn: 189.0000 - accuracy: 0.9988 - precision: 0.8425 - recall: 0.3942 - auc: 0.9020 - prc: 0.5569 - val_loss: 0.0034 - val_tp: 50.0000 - val_fp: 8.0000 - val_tn: 45485.0000 - val_fn: 26.0000 - val_accuracy: 0.9993 - val_precision: 0.8621 - val_recall: 0.6579 - val_auc: 0.9601 - val_prc: 0.7841\n",
            "Epoch 4/100\n",
            "90/90 [==============================] - 1s 8ms/step - loss: 0.0057 - tp: 139.0000 - fp: 24.0000 - tn: 181940.0000 - fn: 173.0000 - accuracy: 0.9989 - precision: 0.8528 - recall: 0.4455 - auc: 0.8969 - prc: 0.5988 - val_loss: 0.0031 - val_tp: 57.0000 - val_fp: 10.0000 - val_tn: 45483.0000 - val_fn: 19.0000 - val_accuracy: 0.9994 - val_precision: 0.8507 - val_recall: 0.7500 - val_auc: 0.9602 - val_prc: 0.8077\n",
            "Epoch 5/100\n",
            "90/90 [==============================] - 1s 8ms/step - loss: 0.0052 - tp: 160.0000 - fp: 33.0000 - tn: 181931.0000 - fn: 152.0000 - accuracy: 0.9990 - precision: 0.8290 - recall: 0.5128 - auc: 0.9190 - prc: 0.6324 - val_loss: 0.0030 - val_tp: 57.0000 - val_fp: 10.0000 - val_tn: 45483.0000 - val_fn: 19.0000 - val_accuracy: 0.9994 - val_precision: 0.8507 - val_recall: 0.7500 - val_auc: 0.9602 - val_prc: 0.8151\n",
            "Epoch 6/100\n",
            "90/90 [==============================] - 1s 9ms/step - loss: 0.0051 - tp: 166.0000 - fp: 29.0000 - tn: 181935.0000 - fn: 146.0000 - accuracy: 0.9990 - precision: 0.8513 - recall: 0.5321 - auc: 0.9242 - prc: 0.6330 - val_loss: 0.0028 - val_tp: 57.0000 - val_fp: 10.0000 - val_tn: 45483.0000 - val_fn: 19.0000 - val_accuracy: 0.9994 - val_precision: 0.8507 - val_recall: 0.7500 - val_auc: 0.9602 - val_prc: 0.8243\n",
            "Epoch 7/100\n",
            "90/90 [==============================] - 1s 8ms/step - loss: 0.0046 - tp: 173.0000 - fp: 29.0000 - tn: 181935.0000 - fn: 139.0000 - accuracy: 0.9991 - precision: 0.8564 - recall: 0.5545 - auc: 0.9312 - prc: 0.6903 - val_loss: 0.0027 - val_tp: 58.0000 - val_fp: 11.0000 - val_tn: 45482.0000 - val_fn: 18.0000 - val_accuracy: 0.9994 - val_precision: 0.8406 - val_recall: 0.7632 - val_auc: 0.9602 - val_prc: 0.8378\n",
            "Epoch 8/100\n",
            "90/90 [==============================] - 1s 9ms/step - loss: 0.0042 - tp: 179.0000 - fp: 26.0000 - tn: 181938.0000 - fn: 133.0000 - accuracy: 0.9991 - precision: 0.8732 - recall: 0.5737 - auc: 0.9201 - prc: 0.7225 - val_loss: 0.0027 - val_tp: 60.0000 - val_fp: 11.0000 - val_tn: 45482.0000 - val_fn: 16.0000 - val_accuracy: 0.9994 - val_precision: 0.8451 - val_recall: 0.7895 - val_auc: 0.9602 - val_prc: 0.8423\n",
            "Epoch 9/100\n",
            "90/90 [==============================] - 1s 9ms/step - loss: 0.0045 - tp: 194.0000 - fp: 36.0000 - tn: 181928.0000 - fn: 118.0000 - accuracy: 0.9992 - precision: 0.8435 - recall: 0.6218 - auc: 0.9217 - prc: 0.6839 - val_loss: 0.0025 - val_tp: 59.0000 - val_fp: 11.0000 - val_tn: 45482.0000 - val_fn: 17.0000 - val_accuracy: 0.9994 - val_precision: 0.8429 - val_recall: 0.7763 - val_auc: 0.9603 - val_prc: 0.8472\n",
            "Epoch 10/100\n",
            "90/90 [==============================] - 1s 8ms/step - loss: 0.0046 - tp: 180.0000 - fp: 33.0000 - tn: 181931.0000 - fn: 132.0000 - accuracy: 0.9991 - precision: 0.8451 - recall: 0.5769 - auc: 0.9364 - prc: 0.6736 - val_loss: 0.0024 - val_tp: 57.0000 - val_fp: 9.0000 - val_tn: 45484.0000 - val_fn: 19.0000 - val_accuracy: 0.9994 - val_precision: 0.8636 - val_recall: 0.7500 - val_auc: 0.9603 - val_prc: 0.8550\n",
            "Epoch 11/100\n",
            "90/90 [==============================] - 1s 9ms/step - loss: 0.0043 - tp: 184.0000 - fp: 31.0000 - tn: 181933.0000 - fn: 128.0000 - accuracy: 0.9991 - precision: 0.8558 - recall: 0.5897 - auc: 0.9267 - prc: 0.6905 - val_loss: 0.0024 - val_tp: 59.0000 - val_fp: 10.0000 - val_tn: 45483.0000 - val_fn: 17.0000 - val_accuracy: 0.9994 - val_precision: 0.8551 - val_recall: 0.7763 - val_auc: 0.9603 - val_prc: 0.8550\n",
            "Epoch 12/100\n",
            "90/90 [==============================] - 1s 7ms/step - loss: 0.0040 - tp: 185.0000 - fp: 32.0000 - tn: 181932.0000 - fn: 127.0000 - accuracy: 0.9991 - precision: 0.8525 - recall: 0.5929 - auc: 0.9268 - prc: 0.7301 - val_loss: 0.0023 - val_tp: 60.0000 - val_fp: 10.0000 - val_tn: 45483.0000 - val_fn: 16.0000 - val_accuracy: 0.9994 - val_precision: 0.8571 - val_recall: 0.7895 - val_auc: 0.9602 - val_prc: 0.8562\n",
            "Epoch 13/100\n",
            "90/90 [==============================] - 1s 8ms/step - loss: 0.0042 - tp: 181.0000 - fp: 30.0000 - tn: 181934.0000 - fn: 131.0000 - accuracy: 0.9991 - precision: 0.8578 - recall: 0.5801 - auc: 0.9266 - prc: 0.7082 - val_loss: 0.0023 - val_tp: 60.0000 - val_fp: 10.0000 - val_tn: 45483.0000 - val_fn: 16.0000 - val_accuracy: 0.9994 - val_precision: 0.8571 - val_recall: 0.7895 - val_auc: 0.9602 - val_prc: 0.8569\n",
            "Epoch 14/100\n",
            "90/90 [==============================] - 1s 8ms/step - loss: 0.0042 - tp: 180.0000 - fp: 34.0000 - tn: 181930.0000 - fn: 132.0000 - accuracy: 0.9991 - precision: 0.8411 - recall: 0.5769 - auc: 0.9315 - prc: 0.7090 - val_loss: 0.0023 - val_tp: 61.0000 - val_fp: 10.0000 - val_tn: 45483.0000 - val_fn: 15.0000 - val_accuracy: 0.9995 - val_precision: 0.8592 - val_recall: 0.8026 - val_auc: 0.9603 - val_prc: 0.8573\n",
            "Epoch 15/100\n",
            "90/90 [==============================] - 1s 9ms/step - loss: 0.0040 - tp: 185.0000 - fp: 33.0000 - tn: 181931.0000 - fn: 127.0000 - accuracy: 0.9991 - precision: 0.8486 - recall: 0.5929 - auc: 0.9284 - prc: 0.7301 - val_loss: 0.0023 - val_tp: 61.0000 - val_fp: 10.0000 - val_tn: 45483.0000 - val_fn: 15.0000 - val_accuracy: 0.9995 - val_precision: 0.8592 - val_recall: 0.8026 - val_auc: 0.9603 - val_prc: 0.8571\n",
            "Epoch 16/100\n",
            "90/90 [==============================] - 1s 9ms/step - loss: 0.0040 - tp: 182.0000 - fp: 32.0000 - tn: 181932.0000 - fn: 130.0000 - accuracy: 0.9991 - precision: 0.8505 - recall: 0.5833 - auc: 0.9318 - prc: 0.7313 - val_loss: 0.0023 - val_tp: 63.0000 - val_fp: 10.0000 - val_tn: 45483.0000 - val_fn: 13.0000 - val_accuracy: 0.9995 - val_precision: 0.8630 - val_recall: 0.8289 - val_auc: 0.9602 - val_prc: 0.8591\n",
            "Epoch 17/100\n",
            "90/90 [==============================] - 1s 8ms/step - loss: 0.0042 - tp: 191.0000 - fp: 32.0000 - tn: 181932.0000 - fn: 121.0000 - accuracy: 0.9992 - precision: 0.8565 - recall: 0.6122 - auc: 0.9316 - prc: 0.7109 - val_loss: 0.0022 - val_tp: 61.0000 - val_fp: 10.0000 - val_tn: 45483.0000 - val_fn: 15.0000 - val_accuracy: 0.9995 - val_precision: 0.8592 - val_recall: 0.8026 - val_auc: 0.9602 - val_prc: 0.8595\n",
            "Epoch 18/100\n",
            "90/90 [==============================] - 1s 9ms/step - loss: 0.0041 - tp: 188.0000 - fp: 34.0000 - tn: 181930.0000 - fn: 124.0000 - accuracy: 0.9991 - precision: 0.8468 - recall: 0.6026 - auc: 0.9284 - prc: 0.6992 - val_loss: 0.0023 - val_tp: 62.0000 - val_fp: 10.0000 - val_tn: 45483.0000 - val_fn: 14.0000 - val_accuracy: 0.9995 - val_precision: 0.8611 - val_recall: 0.8158 - val_auc: 0.9603 - val_prc: 0.8601\n",
            "Epoch 19/100\n",
            "90/90 [==============================] - 1s 10ms/step - loss: 0.0041 - tp: 175.0000 - fp: 36.0000 - tn: 181928.0000 - fn: 137.0000 - accuracy: 0.9991 - precision: 0.8294 - recall: 0.5609 - auc: 0.9317 - prc: 0.6996 - val_loss: 0.0022 - val_tp: 62.0000 - val_fp: 10.0000 - val_tn: 45483.0000 - val_fn: 14.0000 - val_accuracy: 0.9995 - val_precision: 0.8611 - val_recall: 0.8158 - val_auc: 0.9602 - val_prc: 0.8620\n",
            "Epoch 20/100\n",
            "90/90 [==============================] - 1s 14ms/step - loss: 0.0040 - tp: 199.0000 - fp: 38.0000 - tn: 181926.0000 - fn: 113.0000 - accuracy: 0.9992 - precision: 0.8397 - recall: 0.6378 - auc: 0.9349 - prc: 0.7227 - val_loss: 0.0022 - val_tp: 57.0000 - val_fp: 7.0000 - val_tn: 45486.0000 - val_fn: 19.0000 - val_accuracy: 0.9994 - val_precision: 0.8906 - val_recall: 0.7500 - val_auc: 0.9603 - val_prc: 0.8649\n",
            "Epoch 21/100\n",
            "90/90 [==============================] - 1s 8ms/step - loss: 0.0038 - tp: 193.0000 - fp: 27.0000 - tn: 181937.0000 - fn: 119.0000 - accuracy: 0.9992 - precision: 0.8773 - recall: 0.6186 - auc: 0.9270 - prc: 0.7299 - val_loss: 0.0022 - val_tp: 60.0000 - val_fp: 8.0000 - val_tn: 45485.0000 - val_fn: 16.0000 - val_accuracy: 0.9995 - val_precision: 0.8824 - val_recall: 0.7895 - val_auc: 0.9603 - val_prc: 0.8639\n",
            "Epoch 22/100\n",
            "90/90 [==============================] - 1s 8ms/step - loss: 0.0039 - tp: 187.0000 - fp: 31.0000 - tn: 181933.0000 - fn: 125.0000 - accuracy: 0.9991 - precision: 0.8578 - recall: 0.5994 - auc: 0.9318 - prc: 0.7320 - val_loss: 0.0022 - val_tp: 62.0000 - val_fp: 8.0000 - val_tn: 45485.0000 - val_fn: 14.0000 - val_accuracy: 0.9995 - val_precision: 0.8857 - val_recall: 0.8158 - val_auc: 0.9537 - val_prc: 0.8595\n",
            "Epoch 23/100\n",
            "90/90 [==============================] - 1s 9ms/step - loss: 0.0039 - tp: 179.0000 - fp: 32.0000 - tn: 181932.0000 - fn: 133.0000 - accuracy: 0.9991 - precision: 0.8483 - recall: 0.5737 - auc: 0.9366 - prc: 0.7139 - val_loss: 0.0022 - val_tp: 62.0000 - val_fp: 9.0000 - val_tn: 45484.0000 - val_fn: 14.0000 - val_accuracy: 0.9995 - val_precision: 0.8732 - val_recall: 0.8158 - val_auc: 0.9668 - val_prc: 0.8694\n",
            "Epoch 24/100\n",
            "90/90 [==============================] - 1s 8ms/step - loss: 0.0040 - tp: 192.0000 - fp: 34.0000 - tn: 181930.0000 - fn: 120.0000 - accuracy: 0.9992 - precision: 0.8496 - recall: 0.6154 - auc: 0.9349 - prc: 0.7114 - val_loss: 0.0022 - val_tp: 59.0000 - val_fp: 8.0000 - val_tn: 45485.0000 - val_fn: 17.0000 - val_accuracy: 0.9995 - val_precision: 0.8806 - val_recall: 0.7763 - val_auc: 0.9668 - val_prc: 0.8711\n",
            "Epoch 25/100\n",
            "90/90 [==============================] - 1s 9ms/step - loss: 0.0039 - tp: 185.0000 - fp: 37.0000 - tn: 181927.0000 - fn: 127.0000 - accuracy: 0.9991 - precision: 0.8333 - recall: 0.5929 - auc: 0.9366 - prc: 0.7277 - val_loss: 0.0022 - val_tp: 62.0000 - val_fp: 8.0000 - val_tn: 45485.0000 - val_fn: 14.0000 - val_accuracy: 0.9995 - val_precision: 0.8857 - val_recall: 0.8158 - val_auc: 0.9471 - val_prc: 0.8557\n",
            "Epoch 26/100\n",
            "90/90 [==============================] - 1s 9ms/step - loss: 0.0039 - tp: 192.0000 - fp: 33.0000 - tn: 181931.0000 - fn: 120.0000 - accuracy: 0.9992 - precision: 0.8533 - recall: 0.6154 - auc: 0.9367 - prc: 0.7242 - val_loss: 0.0022 - val_tp: 57.0000 - val_fp: 7.0000 - val_tn: 45486.0000 - val_fn: 19.0000 - val_accuracy: 0.9994 - val_precision: 0.8906 - val_recall: 0.7500 - val_auc: 0.9602 - val_prc: 0.8670\n",
            "Epoch 27/100\n",
            "90/90 [==============================] - 1s 10ms/step - loss: 0.0038 - tp: 187.0000 - fp: 31.0000 - tn: 181933.0000 - fn: 125.0000 - accuracy: 0.9991 - precision: 0.8578 - recall: 0.5994 - auc: 0.9382 - prc: 0.7321 - val_loss: 0.0022 - val_tp: 58.0000 - val_fp: 7.0000 - val_tn: 45486.0000 - val_fn: 18.0000 - val_accuracy: 0.9995 - val_precision: 0.8923 - val_recall: 0.7632 - val_auc: 0.9668 - val_prc: 0.8708\n",
            "Epoch 28/100\n",
            "90/90 [==============================] - 1s 9ms/step - loss: 0.0038 - tp: 192.0000 - fp: 35.0000 - tn: 181929.0000 - fn: 120.0000 - accuracy: 0.9991 - precision: 0.8458 - recall: 0.6154 - auc: 0.9335 - prc: 0.7193 - val_loss: 0.0022 - val_tp: 62.0000 - val_fp: 9.0000 - val_tn: 45484.0000 - val_fn: 14.0000 - val_accuracy: 0.9995 - val_precision: 0.8732 - val_recall: 0.8158 - val_auc: 0.9537 - val_prc: 0.8612\n",
            "Epoch 29/100\n",
            "90/90 [==============================] - 1s 9ms/step - loss: 0.0037 - tp: 190.0000 - fp: 29.0000 - tn: 181935.0000 - fn: 122.0000 - accuracy: 0.9992 - precision: 0.8676 - recall: 0.6090 - auc: 0.9319 - prc: 0.7425 - val_loss: 0.0022 - val_tp: 63.0000 - val_fp: 10.0000 - val_tn: 45483.0000 - val_fn: 13.0000 - val_accuracy: 0.9995 - val_precision: 0.8630 - val_recall: 0.8289 - val_auc: 0.9537 - val_prc: 0.8596\n",
            "Epoch 30/100\n",
            "90/90 [==============================] - 1s 10ms/step - loss: 0.0037 - tp: 188.0000 - fp: 36.0000 - tn: 181928.0000 - fn: 124.0000 - accuracy: 0.9991 - precision: 0.8393 - recall: 0.6026 - auc: 0.9366 - prc: 0.7424 - val_loss: 0.0022 - val_tp: 60.0000 - val_fp: 8.0000 - val_tn: 45485.0000 - val_fn: 16.0000 - val_accuracy: 0.9995 - val_precision: 0.8824 - val_recall: 0.7895 - val_auc: 0.9537 - val_prc: 0.8619\n",
            "Epoch 31/100\n",
            "90/90 [==============================] - 1s 9ms/step - loss: 0.0037 - tp: 184.0000 - fp: 35.0000 - tn: 181929.0000 - fn: 128.0000 - accuracy: 0.9991 - precision: 0.8402 - recall: 0.5897 - auc: 0.9415 - prc: 0.7496 - val_loss: 0.0022 - val_tp: 57.0000 - val_fp: 7.0000 - val_tn: 45486.0000 - val_fn: 19.0000 - val_accuracy: 0.9994 - val_precision: 0.8906 - val_recall: 0.7500 - val_auc: 0.9537 - val_prc: 0.8636\n",
            "Epoch 32/100\n",
            "90/90 [==============================] - 1s 9ms/step - loss: 0.0040 - tp: 192.0000 - fp: 34.0000 - tn: 181930.0000 - fn: 120.0000 - accuracy: 0.9992 - precision: 0.8496 - recall: 0.6154 - auc: 0.9269 - prc: 0.7007 - val_loss: 0.0022 - val_tp: 57.0000 - val_fp: 7.0000 - val_tn: 45486.0000 - val_fn: 19.0000 - val_accuracy: 0.9994 - val_precision: 0.8906 - val_recall: 0.7500 - val_auc: 0.9537 - val_prc: 0.8643\n",
            "Epoch 33/100\n",
            "90/90 [==============================] - 1s 9ms/step - loss: 0.0039 - tp: 186.0000 - fp: 34.0000 - tn: 181930.0000 - fn: 126.0000 - accuracy: 0.9991 - precision: 0.8455 - recall: 0.5962 - auc: 0.9334 - prc: 0.7161 - val_loss: 0.0022 - val_tp: 57.0000 - val_fp: 7.0000 - val_tn: 45486.0000 - val_fn: 19.0000 - val_accuracy: 0.9994 - val_precision: 0.8906 - val_recall: 0.7500 - val_auc: 0.9537 - val_prc: 0.8648\n",
            "Epoch 34/100\n",
            "84/90 [===========================>..] - ETA: 0s - loss: 0.0038 - tp: 179.0000 - fp: 27.0000 - tn: 171710.0000 - fn: 116.0000 - accuracy: 0.9992 - precision: 0.8689 - recall: 0.6068 - auc: 0.9313 - prc: 0.7215Restoring model weights from the end of the best epoch: 24.\n",
            "90/90 [==============================] - 1s 9ms/step - loss: 0.0037 - tp: 192.0000 - fp: 28.0000 - tn: 181936.0000 - fn: 120.0000 - accuracy: 0.9992 - precision: 0.8727 - recall: 0.6154 - auc: 0.9350 - prc: 0.7270 - val_loss: 0.0022 - val_tp: 57.0000 - val_fp: 7.0000 - val_tn: 45486.0000 - val_fn: 19.0000 - val_accuracy: 0.9994 - val_precision: 0.8906 - val_recall: 0.7500 - val_auc: 0.9537 - val_prc: 0.8633\n",
            "Epoch 34: early stopping\n"
          ]
        }
      ]
    },
    {
      "cell_type": "code",
      "source": [
        "def plot_metrics(history):\n",
        "  metrics = ['loss', 'prc', 'precision', 'recall']\n",
        "\n",
        "  for n, metric in enumerate(metrics):\n",
        "    name = metric.replace(\"_\", \" \").capitalize()\n",
        "    \n",
        "    plt.subplot(2,2, n+1)\n",
        "    plt.plot(history.epoch, history.history[metric], color = colors[0], label = 'Train')\n",
        "    plt.plot(history.epoch, history.history['val_' + metric],\n",
        "             color = colors[0], linestyle = \"--\", label = 'Val')\n",
        "    plt.xlabel('Epoch')\n",
        "    plt.ylabel(name)\n",
        "    \n",
        "    if metric == 'loss':\n",
        "      plt.ylim([0, plt.ylim()[1]])\n",
        "    elif metric =='auc':\n",
        "      plt.ylim([0.8,1])\n",
        "    else:\n",
        "      plt.ylim([0,1])\n",
        "      \n",
        "    plt.legend();\n",
        "\n"
      ],
      "metadata": {
        "id": "M-Q8SzwA9DCu"
      },
      "execution_count": 30,
      "outputs": []
    },
    {
      "cell_type": "code",
      "source": [
        "plot_metrics(baseline_history)"
      ],
      "metadata": {
        "colab": {
          "base_uri": "https://localhost:8080/",
          "height": 610
        },
        "id": "hVtjVuiV-bnD",
        "outputId": "3c5dfcb4-6e6e-430a-f6e3-ca8fad8483db"
      },
      "execution_count": 31,
      "outputs": [
        {
          "output_type": "display_data",
          "data": {
            "text/plain": [
              "<Figure size 864x720 with 4 Axes>"
            ],
            "image/png": "[encoded data removed]"
          },
          "metadata": {
            "needs_background": "light"
          }
        }
      ]
    }
  ]
}